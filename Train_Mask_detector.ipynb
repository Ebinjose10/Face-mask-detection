{
 "cells": [
  {
   "cell_type": "code",
   "execution_count": 5,
   "metadata": {},
   "outputs": [
    {
     "name": "stdout",
     "output_type": "stream",
     "text": [
      "2.3.1\n",
      "DEVICES: [PhysicalDevice(name='/physical_device:XLA_GPU:0', device_type='XLA_GPU')]\n"
     ]
    }
   ],
   "source": [
    "from keras.models import Sequential\n",
    "from keras.layers import Conv2D\n",
    "from keras.layers.normalization import BatchNormalization\n",
    "from keras.regularizers import l2\n",
    "from keras.layers import Activation\n",
    "from keras.layers import Dropout\n",
    "from keras.layers import MaxPooling2D \n",
    "from keras.layers import Flatten\n",
    "from keras.layers import Dense\n",
    "from keras import optimizers\n",
    "from keras.callbacks import ReduceLROnPlateau, EarlyStopping, TensorBoard, ModelCheckpoint\n",
    "from sklearn.metrics import accuracy_score\n",
    "from keras.preprocessing.image import ImageDataGenerator\n",
    "import keras\n",
    "from tensorflow.keras.utils import to_categorical \n",
    "\n",
    "\n",
    "import os,cv2\n",
    "import numpy as np\n",
    "from sklearn.utils import shuffle\n",
    "import tensorflow as tf\n",
    "print(tf.__version__)\n",
    "from sklearn.model_selection import train_test_split\n",
    "from glob import glob\n",
    "\n",
    "physical_devices = tf.config.experimental.list_physical_devices('XLA_GPU')\n",
    "print(\"DEVICES:\", physical_devices)"
   ]
  },
  {
   "cell_type": "code",
   "execution_count": 9,
   "metadata": {},
   "outputs": [
    {
     "name": "stdout",
     "output_type": "stream",
     "text": [
      "Found 3466 images belonging to 2 classes.\n",
      "Found 866 images belonging to 2 classes.\n",
      "Found 748 images belonging to 2 classes.\n"
     ]
    }
   ],
   "source": [
    "train_path = \"../Data/TrainData/\"\n",
    "test_path = \"../Data/TestData/\"\n",
    "img_dims = (64, 64)\n",
    "batch_size = 64\n",
    "epochs = 15\n",
    "\n",
    "train_datagen = ImageDataGenerator(\n",
    "                                   width_shift_range = 0.10,\n",
    "                                   height_shift_range = 0.10,\n",
    "                                   shear_range = 0.3,\n",
    "                                   channel_shift_range = 0.2,\n",
    "                                   rescale=1./255,\n",
    "                                   validation_split=0.2\n",
    "                                   )\n",
    "\n",
    "test_datagen = ImageDataGenerator(rescale=1./255)\n",
    "\n",
    "train_data_generator = train_datagen.flow_from_directory(\n",
    "                                                         directory = train_path,\n",
    "                                                         target_size = img_dims,\n",
    "                                                         batch_size = 64,\n",
    "                                                         class_mode = 'categorical',\n",
    "                                                         subset = 'training'\n",
    "                                                        )\n",
    "\n",
    "validation_data_generator = train_datagen.flow_from_directory( \n",
    "                                                                   directory = train_path,\n",
    "                                                                   target_size = img_dims,\n",
    "                                                                   batch_size = 64,\n",
    "                                                                   class_mode = 'categorical',\n",
    "                                                                   subset = 'validation'\n",
    "                                                                  )\n",
    "test_data_generator = test_datagen.flow_from_directory(\n",
    "                                                          directory = test_path,\n",
    "                                                          target_size = img_dims,\n",
    "                                                          batch_size = 64,\n",
    "                                                          class_mode = 'categorical',\n",
    "                                                          shuffle = False\n",
    "                                                      )"
   ]
  },
  {
   "cell_type": "code",
   "execution_count": 7,
   "metadata": {},
   "outputs": [
    {
     "name": "stdout",
     "output_type": "stream",
     "text": [
      "Model: \"sequential_2\"\n",
      "_________________________________________________________________\n",
      "Layer (type)                 Output Shape              Param #   \n",
      "=================================================================\n",
      "conv2d_5 (Conv2D)            (None, 64, 64, 256)       7168      \n",
      "_________________________________________________________________\n",
      "batch_normalization_5 (Batch (None, 64, 64, 256)       1024      \n",
      "_________________________________________________________________\n",
      "conv2d_6 (Conv2D)            (None, 64, 64, 128)       295040    \n",
      "_________________________________________________________________\n",
      "batch_normalization_6 (Batch (None, 64, 64, 128)       512       \n",
      "_________________________________________________________________\n",
      "max_pooling2d_4 (MaxPooling2 (None, 32, 32, 128)       0         \n",
      "_________________________________________________________________\n",
      "conv2d_7 (Conv2D)            (None, 32, 32, 64)        73792     \n",
      "_________________________________________________________________\n",
      "batch_normalization_7 (Batch (None, 32, 32, 64)        256       \n",
      "_________________________________________________________________\n",
      "max_pooling2d_5 (MaxPooling2 (None, 16, 16, 64)        0         \n",
      "_________________________________________________________________\n",
      "conv2d_8 (Conv2D)            (None, 16, 16, 32)        18464     \n",
      "_________________________________________________________________\n",
      "batch_normalization_8 (Batch (None, 16, 16, 32)        128       \n",
      "_________________________________________________________________\n",
      "max_pooling2d_6 (MaxPooling2 (None, 8, 8, 32)          0         \n",
      "_________________________________________________________________\n",
      "flatten_2 (Flatten)          (None, 2048)              0         \n",
      "_________________________________________________________________\n",
      "dense_4 (Dense)              (None, 64)                131136    \n",
      "_________________________________________________________________\n",
      "dropout_3 (Dropout)          (None, 64)                0         \n",
      "_________________________________________________________________\n",
      "dense_5 (Dense)              (None, 32)                2080      \n",
      "_________________________________________________________________\n",
      "dropout_4 (Dropout)          (None, 32)                0         \n",
      "_________________________________________________________________\n",
      "dense_6 (Dense)              (None, 2)                 66        \n",
      "=================================================================\n",
      "Total params: 529,666\n",
      "Trainable params: 528,706\n",
      "Non-trainable params: 960\n",
      "_________________________________________________________________\n",
      "None\n"
     ]
    }
   ],
   "source": [
    "with tf.device('/GPU:0'):\n",
    "    model = Sequential()\n",
    "    mod\n",
    "    \n",
    "    \n",
    "    model.add(MaxPooling2D(pool_size=(2,2)))\n",
    "    model.add(Conv2D(64, (3,3), padding='same', kernel_initializer='he_normal', activation = 'relu'))\n",
    "    model.add(BatchNormalization())\n",
    "    model.add(MaxPooling2D(pool_size=(2,2)))\n",
    "    model.add(Conv2D(32, (3,3), padding='same', kernel_initializer='he_normal', activation = 'relu'))\n",
    "    model.add(BatchNormalization())\n",
    "    model.add(MaxPooling2D(pool_size=(2,2)))\n",
    "    \n",
    "    model.add(Flatten())\n",
    "    model.add(Dense(64, activation='relu'))\n",
    "    model.add(Dropout(0.4))\n",
    "    model.add(Dense(32, activation='relu'))\n",
    "    model.add(Dropout(0.4))\n",
    "    model.add(Dense(2, activation='sigmoid'))\n",
    "\n",
    "    print(model.summary())\n",
    "    \n",
    "    adam_opt = keras.optimizers.adam(lr = 0.0001)\n",
    "    model.compile(optimizer = adam_opt, loss='categorical_crossentropy', metrics=['accuracy'])\n"
   ]
  },
  {
   "cell_type": "code",
   "execution_count": 10,
   "metadata": {},
   "outputs": [
    {
     "name": "stdout",
     "output_type": "stream",
     "text": [
      "Epoch 1/15\n",
      "55/54 [==============================] - 9s 159ms/step - loss: 0.4849 - accuracy: 0.7776 - val_loss: 0.5853 - val_accuracy: 0.6640\n",
      "\n",
      "Epoch 00001: val_loss improved from inf to 0.58530, saving model to ../Models/mask_checkpoint.hd5\n",
      "Epoch 2/15\n",
      "55/54 [==============================] - 7s 121ms/step - loss: 0.3450 - accuracy: 0.8725 - val_loss: 0.4814 - val_accuracy: 0.7552\n",
      "\n",
      "Epoch 00002: val_loss improved from 0.58530 to 0.48141, saving model to ../Models/mask_checkpoint.hd5\n",
      "Epoch 3/15\n",
      "55/54 [==============================] - 8s 146ms/step - loss: 0.2717 - accuracy: 0.9008 - val_loss: 0.3622 - val_accuracy: 0.8372\n",
      "\n",
      "Epoch 00003: val_loss improved from 0.48141 to 0.36220, saving model to ../Models/mask_checkpoint.hd5\n",
      "Epoch 4/15\n",
      "55/54 [==============================] - 8s 145ms/step - loss: 0.2357 - accuracy: 0.9183 - val_loss: 0.3293 - val_accuracy: 0.7979\n",
      "\n",
      "Epoch 00004: val_loss improved from 0.36220 to 0.32925, saving model to ../Models/mask_checkpoint.hd5\n",
      "Epoch 5/15\n",
      "55/54 [==============================] - 8s 146ms/step - loss: 0.1977 - accuracy: 0.9325 - val_loss: 0.4602 - val_accuracy: 0.7760\n",
      "\n",
      "Epoch 00005: val_loss did not improve from 0.32925\n",
      "Epoch 6/15\n",
      "55/54 [==============================] - 8s 143ms/step - loss: 0.2082 - accuracy: 0.9336 - val_loss: 0.0751 - val_accuracy: 0.9018\n",
      "\n",
      "Epoch 00006: val_loss improved from 0.32925 to 0.07509, saving model to ../Models/mask_checkpoint.hd5\n",
      "Epoch 7/15\n",
      "55/54 [==============================] - 8s 143ms/step - loss: 0.1784 - accuracy: 0.9359 - val_loss: 0.2919 - val_accuracy: 0.8857\n",
      "\n",
      "Epoch 00007: val_loss did not improve from 0.07509\n",
      "Epoch 8/15\n",
      "55/54 [==============================] - 8s 146ms/step - loss: 0.1543 - accuracy: 0.9492 - val_loss: 0.0849 - val_accuracy: 0.9342\n",
      "\n",
      "Epoch 00008: val_loss did not improve from 0.07509\n",
      "Epoch 9/15\n",
      "55/54 [==============================] - 8s 142ms/step - loss: 0.1688 - accuracy: 0.9455 - val_loss: 0.1566 - val_accuracy: 0.9284\n",
      "\n",
      "Epoch 00009: val_loss did not improve from 0.07509\n",
      "Epoch 10/15\n",
      "55/54 [==============================] - 8s 147ms/step - loss: 0.1503 - accuracy: 0.9498 - val_loss: 0.0592 - val_accuracy: 0.9273\n",
      "\n",
      "Epoch 00010: val_loss improved from 0.07509 to 0.05920, saving model to ../Models/mask_checkpoint.hd5\n",
      "Epoch 11/15\n",
      "55/54 [==============================] - 8s 146ms/step - loss: 0.1454 - accuracy: 0.9498 - val_loss: 0.1491 - val_accuracy: 0.9446\n",
      "\n",
      "Epoch 00011: val_loss did not improve from 0.05920\n",
      "Epoch 12/15\n",
      "55/54 [==============================] - 8s 145ms/step - loss: 0.1240 - accuracy: 0.9573 - val_loss: 0.2668 - val_accuracy: 0.9342\n",
      "\n",
      "Epoch 00012: val_loss did not improve from 0.05920\n",
      "Epoch 13/15\n",
      "55/54 [==============================] - 8s 143ms/step - loss: 0.1240 - accuracy: 0.9559 - val_loss: 0.0149 - val_accuracy: 0.9423\n",
      "\n",
      "Epoch 00013: val_loss improved from 0.05920 to 0.01490, saving model to ../Models/mask_checkpoint.hd5\n",
      "Epoch 14/15\n",
      "55/54 [==============================] - 8s 146ms/step - loss: 0.1282 - accuracy: 0.9585 - val_loss: 0.1072 - val_accuracy: 0.9273\n",
      "\n",
      "Epoch 00014: val_loss did not improve from 0.01490\n",
      "Epoch 15/15\n",
      "55/54 [==============================] - 8s 145ms/step - loss: 0.1305 - accuracy: 0.9553 - val_loss: 0.1583 - val_accuracy: 0.9238\n",
      "\n",
      "Epoch 00015: val_loss did not improve from 0.01490\n"
     ]
    }
   ],
   "source": [
    "lr_reducer = ReduceLROnPlateau(monitor='val_loss', factor=0.3, patience=5)\n",
    "checkpointer = ModelCheckpoint('../Models/mask_checkpoint.hd5', monitor='val_loss', verbose=1, save_best_only=True)\n",
    "early_stopper = EarlyStopping(monitor = 'val_loss', patience = 10)\n",
    "\n",
    "\n",
    "['Mask', 'Non'][0]\n",
    "history = model.fit_generator(\n",
    "                               train_data_generator,\n",
    "                               steps_per_epoch = train_data_generator.samples/batch_size,\n",
    "                               epochs = epochs,\n",
    "                               callbacks = [lr_reducer, checkpointer, early_stopper],\n",
    "                               validation_data = validation_data_generator,\n",
    "                               validation_steps = validation_data_generator.samples/batch_size,\n",
    "                               shuffle = True\n",
    "                             )"
   ]
  },
  {
   "cell_type": "code",
   "execution_count": 12,
   "metadata": {},
   "outputs": [
    {
     "data": {
      "image/png": "[encoded data removed]",
      "text/plain": [
       "<Figure size 432x288 with 1 Axes>"
      ]
     },
     "metadata": {
      "needs_background": "light"
     },
     "output_type": "display_data"
    },
    {
     "data": {
      "image/png": "[encoded data removed]",
      "text/plain": [
       "<Figure size 432x288 with 1 Axes>"
      ]
     },
     "metadata": {
      "needs_background": "light"
     },
     "output_type": "display_data"
    }
   ],
   "source": [
    "from matplotlib import pyplot as plt\n",
    "def plot_history(history):\n",
    "    loss_values = [s for s in history.history.keys() if 'loss' in s and 'val' not in s]\n",
    "    val_loss_values = [s for s in history.history.keys() if 'loss' in s and 'val' in s]\n",
    "    acc_values = [s for s in history.history.keys() if 'acc' in s and 'val' not in s]\n",
    "    val_acc_values = [s for s in history.history.keys() if 'acc' in s and 'val' in s]\n",
    "  \n",
    "    if len(loss_values) == 0:\n",
    "        print(\"Incomplete Data\")\n",
    "        return\n",
    "  \n",
    "    no_epochs = range(1, len(history.history[loss_values[0]]) + 1)\n",
    "    plt.figure(1)\n",
    "    for l in loss_values:\n",
    "        plt.plot(no_epochs, history.history[l], 'b', label = 'Training loss')\n",
    "    for l in val_loss_values:\n",
    "        plt.plot(no_epochs, history.history[l], 'g', label = 'Validation loss')\n",
    "    \n",
    "    plt.title('Loss')\n",
    "    plt.xlabel('Epochs')\n",
    "    plt.ylabel('Loss')\n",
    "    plt.legend()\n",
    "  \n",
    "    plt.figure(2)  \n",
    "    for l in acc_values:\n",
    "        plt.plot(no_epochs, history.history[l], 'b', label = 'Training accuracy')\n",
    "    for l in val_acc_values:\n",
    "        plt.plot(no_epochs, history.history[l], 'g', label = 'Validation Accuracy')\n",
    "    \n",
    "    plt.title('Accuracy')\n",
    "    plt.xlabel('Epochs')\n",
    "    plt.ylabel('Accuracy')\n",
    "    plt.legend()\n",
    "    plt.tight_layout()\n",
    "    plt.show()\n",
    "  \n",
    "plot_history(history)"
   ]
  },
  {
   "cell_type": "code",
   "execution_count": 15,
   "metadata": {},
   "outputs": [
    {
     "name": "stdout",
     "output_type": "stream",
     "text": [
      "Accuracy = 97.06\n"
     ]
    },
    {
     "data": {
      "image/png": "[encoded data removed]",
      "text/plain": [
       "<Figure size 360x360 with 2 Axes>"
      ]
     },
     "metadata": {
      "needs_background": "light"
     },
     "output_type": "display_data"
    }
   ],
   "source": [
    "from sklearn.metrics import confusion_matrix\n",
    "import seaborn as sn\n",
    "import pandas as pd\n",
    "\n",
    "import numpy as np\n",
    "test_data_generator.reset()\n",
    "\n",
    "actual_class_indices = test_data_generator.classes\n",
    "preds = model.predict_generator(test_data_generator)\n",
    "predicted_class_indices = np.argmax(preds, axis=1)\n",
    "\n",
    "right_predictions = 0\n",
    "\n",
    "for actual, predicted in zip(actual_class_indices, predicted_class_indices):\n",
    "    if actual == predicted: \n",
    "        right_predictions += 1\n",
    "\n",
    "print(\"Accuracy =\", round(right_predictions/len(actual_class_indices)*100, 2))\n",
    "\n",
    "cm = confusion_matrix(actual_class_indices, predicted_class_indices)\n",
    "df_cm = pd.DataFrame(cm, index = [\"Mask\", \"Non-Mask\"], columns = [\"Mask\", \"Non-Mask\"])\n",
    "plt.figure(figsize = (5, 5))\n",
    "sn.heatmap(df_cm, annot=True,fmt='g');"
   ]
  },
  {
   "cell_type": "code",
   "execution_count": 17,
   "metadata": {},
   "outputs": [],
   "source": [
    "from tensorflow.keras.models import Sequential, save_model\n",
    "filepath = '../Models/mask_model_final.h5'\n",
    "save_model(model, filepath, save_format='h5')"
   ]
  }
 ],
 "metadata": {
  "kernelspec": {
   "display_name": "Python 3",
   "language": "python",
   "name": "python3"
  },
  "language_info": {
   "codemirror_mode": {
    "name": "ipython",
    "version": 3
   },
   "file_extension": ".py",
   "mimetype": "text/x-python",
   "name": "python",
   "nbconvert_exporter": "python",
   "pygments_lexer": "ipython3",
   "version": "3.7.5"
  }
 },
 "nbformat": 4,
 "nbformat_minor": 4
}
