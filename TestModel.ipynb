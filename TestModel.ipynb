####
{
 "cells": [
  {
   "cell_type": "code",
   "execution_count": 1,
   "metadata": {},
   "outputs": [],
   "source": [
    "import cv2\n",
    "import numpy as np\n",
    "from tensorflow.keras.models import Sequential, load_model\n",
    "from matplotlib import pyplot as plt\n",
    "\n",
    "from mtcnn.mtcnn import MTCNN\n",
    "detector = MTCNN()\n",
    "\n",
    "mask_model_path = \"../Models/mask_model_2.h5\"\n",
    "mask_detector = load_model(mask_model_path, custom_objects=None, compile=False)\n",
    "\n",
    "status_type = {0:\"No Mask\", 1:\"Mask\", -1: \"Not Sure\"}\n",
    "colours = {0:(0,0,255), 1:(0,255,0), -1: (0,255,255)}"
   ]
  },
  {
   "cell_type": "code",
   "execution_count": 3,
   "metadata": {},
   "outputs": [
    {
     "name": "stdout",
     "output_type": "stream",
     "text": [
      "EXIT\n"
     ]
    }
   ],
   "source": [
    "def draw_box(frame, x, y, w, h, mask_status):        \n",
    "    cv2.putText(frame, status_type[mask_status], (x-2, y - 10), cv2.FONT_HERSHEY_COMPLEX, 0.5, colours[mask_status], 1)\n",
    "    cv2.rectangle(frame, (x, y), (x+w, y+h), colours[mask_status], 2)\n",
    "    \n",
    "def predict_mask(image):\n",
    "    try:\n",
    "        image = cv2.resize(image, (64, 64))\n",
    "        image = image.astype('float32')/255\n",
    "        image = image.reshape(1, 64, 64, 3)   \n",
    "        \n",
    "        predictions = mask_detector.predict(image)\n",
    "        prediction = np.argmax(predictions, axis=1)[0]\n",
    "        \n",
    "        return int(prediction)\n",
    "\n",
    "    except Exception as e:\n",
    "        print(\"Error:\", e)\n",
    "        return -1\n",
    "\n",
    "\n",
    "cap = cv2.VideoCapture(\"../Media/A.mp4\")\n",
    "frame_count = 0\n",
    "while True:\n",
    "    \n",
    "    _, frame = cap.read()\n",
    "    frame_count += 1\n",
    "    \n",
    "    if frame is not None:\n",
    "        if frame_count%5 == 0:\n",
    "            frame = cv2.resize(frame, (850, 480))\n",
    "\n",
    "            faces = detector.detect_faces(frame)\n",
    "\n",
    "            for face in faces:\n",
    "                (x, y, w, h) =  face['box']\n",
    "                mask_status = predict_mask(frame[y:y+h, x:x+w])\n",
    "                draw_box(frame, x, y, w, h, mask_status)\n",
    "\n",
    "            cv2.imshow(\"Mask Detectoin\", frame)\n",
    "            key = cv2.waitKey(1)\n",
    "            if key == ord('q'):\n",
    "                print(\"EXIT\")\n",
    "                break\n",
    "    else:\n",
    "        print(\"Frame not found. EXIT\")\n",
    "        break\n",
    "        \n",
    "cap.release()\n",
    "cv2.destroyAllWindows()\n"
   ]
  }
 ],
 "metadata": {
  "kernelspec": {
   "display_name": "Python 3",
   "language": "python",
   "name": "python3"
  },
  "language_info": {
   "codemirror_mode": {
    "name": "ipython",
    "version": 3
   },
   "file_extension": ".py",
   "mimetype": "text/x-python",
   "name": "python",
   "nbconvert_exporter": "python",
   "pygments_lexer": "ipython3",
   "version": "3.7.5"
  }
 },
 "nbformat": 4,
 "nbformat_minor": 4
}
